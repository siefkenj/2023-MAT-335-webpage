{
 "cells": [
  {
   "cell_type": "markdown",
   "metadata": {},
   "source": [
    "# Homework 4\n",
    "\n",
    "Do the programing part of Homework 4 in this notebook. Predefined are function *stubs*. That is, the name of the function and a basic body is predefined. You need to modify the code to fulfil the requirements of the homework."
   ]
  },
  {
   "cell_type": "code",
   "execution_count": null,
   "metadata": {},
   "outputs": [],
   "source": [
    "# import numpy and matplotlib\n",
    "import numpy as np\n",
    "import matplotlib.pylab as plt\n",
    "from collections import Counter\n",
    "# We give the matplotlib instruction twice, because firefox sometimes gets upset if we don't.\n",
    "# note these `%`-commands are not actually Python commands. They are Jupyter-notebook-specific commands.\n",
    "%matplotlib notebook\n",
    "%matplotlib notebook"
   ]
  },
  {
   "cell_type": "code",
   "execution_count": null,
   "metadata": {},
   "outputs": [],
   "source": [
    "# The logistic map\n",
    "def f(x, r):\n",
    "    return r*x*(1-x)\n",
    "\n",
    "# find the oribit of a point under the logistic map with parameter `r`.\n",
    "def orbit_f(x_0, r, n=1000):\n",
    "    ret = [x_0]\n",
    "    return ret\n"
   ]
  },
  {
   "cell_type": "code",
   "execution_count": null,
   "metadata": {},
   "outputs": [],
   "source": [
    "#\n",
    "# Plot n-orbits of x from various x's using a paramter of r=2\n",
    "#"
   ]
  },
  {
   "cell_type": "code",
   "execution_count": null,
   "metadata": {},
   "outputs": [],
   "source": [
    "#\n",
    "# Plot n-orbits of x from various x's using a paramter of r=3\n",
    "#"
   ]
  },
  {
   "cell_type": "code",
   "execution_count": null,
   "metadata": {},
   "outputs": [],
   "source": [
    "#\n",
    "# Plot n-orbits of x from various x's using a paramter of r=4\n",
    "#"
   ]
  },
  {
   "cell_type": "code",
   "execution_count": null,
   "metadata": {},
   "outputs": [],
   "source": [
    "def approximate_basin(r):\n",
    "    return [0]\n",
    "\n",
    "print(\"The basin of attraction for r=2 consists (approximately) of the points\", approximate_basin(2))"
   ]
  },
  {
   "cell_type": "code",
   "execution_count": null,
   "metadata": {},
   "outputs": [],
   "source": [
    "#\n",
    "# Plot the basins of attraction vs r\n",
    "#\n",
    "\n",
    "xs = []\n",
    "ys = []\n",
    "\n",
    "\n",
    "fig, ax = plt.subplots()\n",
    "# the \",\" parameter tells matplotlib to print dots instead of lines. You can change it to\n",
    "# \".\" or \"*\" or delete it entirely to plot in different styles\n",
    "ax.plot(xs, ys, ',', color=\"red\")\n",
    "\n",
    "ax.set_title(\"The basins of attraction of the logistic map for different $r$\")\n",
    "\n",
    "fig.legend()\n"
   ]
  }
 ],
 "metadata": {
  "kernelspec": {
   "display_name": "Python 3",
   "language": "python",
   "name": "python3"
  },
  "language_info": {
   "codemirror_mode": {
    "name": "ipython",
    "version": 3
   },
   "file_extension": ".py",
   "mimetype": "text/x-python",
   "name": "python",
   "nbconvert_exporter": "python",
   "pygments_lexer": "ipython3",
   "version": "3.6.9"
  }
 },
 "nbformat": 4,
 "nbformat_minor": 2
}
